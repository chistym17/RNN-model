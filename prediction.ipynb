{
 "cells": [
  {
   "cell_type": "code",
   "execution_count": 1,
   "metadata": {},
   "outputs": [
    {
     "name": "stderr",
     "output_type": "stream",
     "text": [
      "2025-02-07 23:13:30.645813: I tensorflow/core/util/port.cc:153] oneDNN custom operations are on. You may see slightly different numerical results due to floating-point round-off errors from different computation orders. To turn them off, set the environment variable `TF_ENABLE_ONEDNN_OPTS=0`.\n",
      "2025-02-07 23:13:30.653429: I external/local_xla/xla/tsl/cuda/cudart_stub.cc:32] Could not find cuda drivers on your machine, GPU will not be used.\n",
      "2025-02-07 23:13:30.755163: I external/local_xla/xla/tsl/cuda/cudart_stub.cc:32] Could not find cuda drivers on your machine, GPU will not be used.\n",
      "2025-02-07 23:13:30.854475: E external/local_xla/xla/stream_executor/cuda/cuda_fft.cc:477] Unable to register cuFFT factory: Attempting to register factory for plugin cuFFT when one has already been registered\n",
      "WARNING: All log messages before absl::InitializeLog() is called are written to STDERR\n",
      "E0000 00:00:1738948410.959479   23161 cuda_dnn.cc:8310] Unable to register cuDNN factory: Attempting to register factory for plugin cuDNN when one has already been registered\n",
      "E0000 00:00:1738948410.987537   23161 cuda_blas.cc:1418] Unable to register cuBLAS factory: Attempting to register factory for plugin cuBLAS when one has already been registered\n",
      "2025-02-07 23:13:31.183537: I tensorflow/core/platform/cpu_feature_guard.cc:210] This TensorFlow binary is optimized to use available CPU instructions in performance-critical operations.\n",
      "To enable the following instructions: AVX2 AVX_VNNI FMA, in other operations, rebuild TensorFlow with the appropriate compiler flags.\n"
     ]
    }
   ],
   "source": [
    "import numpy as np\n",
    "import tensorflow as tf\n",
    "from tensorflow.keras.datasets import imdb\n",
    "from tensorflow.keras.preprocessing import sequence\n",
    "from tensorflow.keras.models import load_model"
   ]
  },
  {
   "cell_type": "code",
   "execution_count": 2,
   "metadata": {},
   "outputs": [],
   "source": [
    "\n",
    "word_index = imdb.get_word_index()\n",
    "reverse_word_index = {value: key for key, value in word_index.items()}"
   ]
  },
  {
   "cell_type": "code",
   "execution_count": 3,
   "metadata": {},
   "outputs": [
    {
     "name": "stderr",
     "output_type": "stream",
     "text": [
      "2025-02-07 23:24:53.526882: E external/local_xla/xla/stream_executor/cuda/cuda_driver.cc:152] failed call to cuInit: INTERNAL: CUDA error: Failed call to cuInit: UNKNOWN ERROR (303)\n",
      "WARNING:absl:Compiled the loaded model, but the compiled metrics have yet to be built. `model.compile_metrics` will be empty until you train or evaluate the model.\n"
     ]
    },
    {
     "data": {
      "text/html": [
       "<pre style=\"white-space:pre;overflow-x:auto;line-height:normal;font-family:Menlo,'DejaVu Sans Mono',consolas,'Courier New',monospace\"><span style=\"font-weight: bold\">Model: \"sequential\"</span>\n",
       "</pre>\n"
      ],
      "text/plain": [
       "\u001b[1mModel: \"sequential\"\u001b[0m\n"
      ]
     },
     "metadata": {},
     "output_type": "display_data"
    },
    {
     "data": {
      "text/html": [
       "<pre style=\"white-space:pre;overflow-x:auto;line-height:normal;font-family:Menlo,'DejaVu Sans Mono',consolas,'Courier New',monospace\">┏━━━━━━━━━━━━━━━━━━━━━━━━━━━━━━━━━┳━━━━━━━━━━━━━━━━━━━━━━━━┳━━━━━━━━━━━━━━━┓\n",
       "┃<span style=\"font-weight: bold\"> Layer (type)                    </span>┃<span style=\"font-weight: bold\"> Output Shape           </span>┃<span style=\"font-weight: bold\">       Param # </span>┃\n",
       "┡━━━━━━━━━━━━━━━━━━━━━━━━━━━━━━━━━╇━━━━━━━━━━━━━━━━━━━━━━━━╇━━━━━━━━━━━━━━━┩\n",
       "│ embedding (<span style=\"color: #0087ff; text-decoration-color: #0087ff\">Embedding</span>)           │ (<span style=\"color: #00af00; text-decoration-color: #00af00\">32</span>, <span style=\"color: #00af00; text-decoration-color: #00af00\">500</span>, <span style=\"color: #00af00; text-decoration-color: #00af00\">128</span>)         │     <span style=\"color: #00af00; text-decoration-color: #00af00\">1,280,000</span> │\n",
       "├─────────────────────────────────┼────────────────────────┼───────────────┤\n",
       "│ simple_rnn (<span style=\"color: #0087ff; text-decoration-color: #0087ff\">SimpleRNN</span>)          │ (<span style=\"color: #00af00; text-decoration-color: #00af00\">32</span>, <span style=\"color: #00af00; text-decoration-color: #00af00\">128</span>)              │        <span style=\"color: #00af00; text-decoration-color: #00af00\">32,896</span> │\n",
       "├─────────────────────────────────┼────────────────────────┼───────────────┤\n",
       "│ dense (<span style=\"color: #0087ff; text-decoration-color: #0087ff\">Dense</span>)                   │ (<span style=\"color: #00af00; text-decoration-color: #00af00\">32</span>, <span style=\"color: #00af00; text-decoration-color: #00af00\">1</span>)                │           <span style=\"color: #00af00; text-decoration-color: #00af00\">129</span> │\n",
       "└─────────────────────────────────┴────────────────────────┴───────────────┘\n",
       "</pre>\n"
      ],
      "text/plain": [
       "┏━━━━━━━━━━━━━━━━━━━━━━━━━━━━━━━━━┳━━━━━━━━━━━━━━━━━━━━━━━━┳━━━━━━━━━━━━━━━┓\n",
       "┃\u001b[1m \u001b[0m\u001b[1mLayer (type)                   \u001b[0m\u001b[1m \u001b[0m┃\u001b[1m \u001b[0m\u001b[1mOutput Shape          \u001b[0m\u001b[1m \u001b[0m┃\u001b[1m \u001b[0m\u001b[1m      Param #\u001b[0m\u001b[1m \u001b[0m┃\n",
       "┡━━━━━━━━━━━━━━━━━━━━━━━━━━━━━━━━━╇━━━━━━━━━━━━━━━━━━━━━━━━╇━━━━━━━━━━━━━━━┩\n",
       "│ embedding (\u001b[38;5;33mEmbedding\u001b[0m)           │ (\u001b[38;5;34m32\u001b[0m, \u001b[38;5;34m500\u001b[0m, \u001b[38;5;34m128\u001b[0m)         │     \u001b[38;5;34m1,280,000\u001b[0m │\n",
       "├─────────────────────────────────┼────────────────────────┼───────────────┤\n",
       "│ simple_rnn (\u001b[38;5;33mSimpleRNN\u001b[0m)          │ (\u001b[38;5;34m32\u001b[0m, \u001b[38;5;34m128\u001b[0m)              │        \u001b[38;5;34m32,896\u001b[0m │\n",
       "├─────────────────────────────────┼────────────────────────┼───────────────┤\n",
       "│ dense (\u001b[38;5;33mDense\u001b[0m)                   │ (\u001b[38;5;34m32\u001b[0m, \u001b[38;5;34m1\u001b[0m)                │           \u001b[38;5;34m129\u001b[0m │\n",
       "└─────────────────────────────────┴────────────────────────┴───────────────┘\n"
      ]
     },
     "metadata": {},
     "output_type": "display_data"
    },
    {
     "data": {
      "text/html": [
       "<pre style=\"white-space:pre;overflow-x:auto;line-height:normal;font-family:Menlo,'DejaVu Sans Mono',consolas,'Courier New',monospace\"><span style=\"font-weight: bold\"> Total params: </span><span style=\"color: #00af00; text-decoration-color: #00af00\">1,313,027</span> (5.01 MB)\n",
       "</pre>\n"
      ],
      "text/plain": [
       "\u001b[1m Total params: \u001b[0m\u001b[38;5;34m1,313,027\u001b[0m (5.01 MB)\n"
      ]
     },
     "metadata": {},
     "output_type": "display_data"
    },
    {
     "data": {
      "text/html": [
       "<pre style=\"white-space:pre;overflow-x:auto;line-height:normal;font-family:Menlo,'DejaVu Sans Mono',consolas,'Courier New',monospace\"><span style=\"font-weight: bold\"> Trainable params: </span><span style=\"color: #00af00; text-decoration-color: #00af00\">1,313,025</span> (5.01 MB)\n",
       "</pre>\n"
      ],
      "text/plain": [
       "\u001b[1m Trainable params: \u001b[0m\u001b[38;5;34m1,313,025\u001b[0m (5.01 MB)\n"
      ]
     },
     "metadata": {},
     "output_type": "display_data"
    },
    {
     "data": {
      "text/html": [
       "<pre style=\"white-space:pre;overflow-x:auto;line-height:normal;font-family:Menlo,'DejaVu Sans Mono',consolas,'Courier New',monospace\"><span style=\"font-weight: bold\"> Non-trainable params: </span><span style=\"color: #00af00; text-decoration-color: #00af00\">0</span> (0.00 B)\n",
       "</pre>\n"
      ],
      "text/plain": [
       "\u001b[1m Non-trainable params: \u001b[0m\u001b[38;5;34m0\u001b[0m (0.00 B)\n"
      ]
     },
     "metadata": {},
     "output_type": "display_data"
    },
    {
     "data": {
      "text/html": [
       "<pre style=\"white-space:pre;overflow-x:auto;line-height:normal;font-family:Menlo,'DejaVu Sans Mono',consolas,'Courier New',monospace\"><span style=\"font-weight: bold\"> Optimizer params: </span><span style=\"color: #00af00; text-decoration-color: #00af00\">2</span> (12.00 B)\n",
       "</pre>\n"
      ],
      "text/plain": [
       "\u001b[1m Optimizer params: \u001b[0m\u001b[38;5;34m2\u001b[0m (12.00 B)\n"
      ]
     },
     "metadata": {},
     "output_type": "display_data"
    }
   ],
   "source": [
    "\n",
    "model = load_model('model.h5')\n",
    "model.summary()"
   ]
  },
  {
   "cell_type": "code",
   "execution_count": 4,
   "metadata": {},
   "outputs": [
    {
     "data": {
      "text/plain": [
       "[array([[ 0.04272715, -0.52431214,  0.4194111 , ..., -0.78090584,\n",
       "         -0.16588584,  0.81683666],\n",
       "        [-0.00714023, -0.00175702,  0.01276666, ..., -0.08321118,\n",
       "          0.03009083,  0.00429881],\n",
       "        [-0.03760032, -0.0014561 ,  0.02676921, ..., -0.01119294,\n",
       "          0.03385077, -0.01805015],\n",
       "        ...,\n",
       "        [ 0.0891017 ,  0.07103882,  0.05486841, ...,  0.02497432,\n",
       "          0.01937086,  0.14616272],\n",
       "        [-0.0141332 , -0.12045217,  0.13568658, ..., -0.00929997,\n",
       "         -0.05558772,  0.01610683],\n",
       "        [ 0.11505656,  0.0660606 , -0.03900809, ...,  0.02870196,\n",
       "          0.17300797,  0.08564351]], dtype=float32),\n",
       " array([[-0.10729721, -0.08175828,  0.0556005 , ..., -0.04380939,\n",
       "         -0.13689277, -0.09371154],\n",
       "        [-0.00754702, -0.06380778, -0.1501777 , ...,  0.09836134,\n",
       "          0.10928607, -0.1128245 ],\n",
       "        [-0.01425511,  0.08259969, -0.00957135, ...,  0.07342401,\n",
       "          0.04184483, -0.0438164 ],\n",
       "        ...,\n",
       "        [-0.08919622,  0.1814196 , -0.10708295, ...,  0.0920454 ,\n",
       "          0.10034285,  0.04633477],\n",
       "        [ 0.04963759,  0.01436499,  0.02266386, ...,  0.065576  ,\n",
       "         -0.09633113,  0.02213073],\n",
       "        [-0.07029682,  0.03251302,  0.00098788, ...,  0.10664359,\n",
       "          0.14132006,  0.09935947]], dtype=float32),\n",
       " array([[ 0.10267797,  0.19788656,  0.02018291, ..., -0.02624097,\n",
       "         -0.19269083, -0.07612707],\n",
       "        [ 0.04702206,  0.16454047,  0.09387074, ..., -0.1038682 ,\n",
       "          0.03892813,  0.02182333],\n",
       "        [ 0.13114788,  0.04220474,  0.03549707, ..., -0.04595671,\n",
       "          0.00639409, -0.06021627],\n",
       "        ...,\n",
       "        [-0.07593108, -0.05481783, -0.01418088, ..., -0.04341048,\n",
       "          0.1394205 ,  0.04427268],\n",
       "        [ 0.05405753,  0.08466532, -0.10493954, ..., -0.02400812,\n",
       "          0.21267037,  0.00443153],\n",
       "        [-0.08969798,  0.16977654,  0.07386722, ..., -0.10997593,\n",
       "         -0.00139725, -0.0984878 ]], dtype=float32),\n",
       " array([-0.01217022, -0.00659083, -0.02323623,  0.02762551, -0.03002196,\n",
       "         0.00260965, -0.01486482, -0.02320109, -0.03126564,  0.02733951,\n",
       "         0.00126021, -0.01192744, -0.01741791, -0.02406111, -0.03583451,\n",
       "        -0.01577902,  0.00544884,  0.01828714,  0.029553  ,  0.01372154,\n",
       "        -0.01118482,  0.03306258, -0.0005767 , -0.00423112, -0.00270806,\n",
       "        -0.01159712, -0.00736637, -0.03163249, -0.03065322, -0.00524393,\n",
       "         0.00036507, -0.02291676, -0.02098485,  0.03141105,  0.039916  ,\n",
       "         0.02224172, -0.0266638 , -0.01470743, -0.02573965,  0.01994435,\n",
       "        -0.02937928, -0.00389646,  0.00986842,  0.03307118,  0.00831121,\n",
       "        -0.03859617, -0.02743897, -0.01390691, -0.03375523, -0.0167235 ,\n",
       "        -0.00754934, -0.00398483,  0.03117965,  0.0217706 ,  0.00277171,\n",
       "         0.017028  , -0.02279019,  0.01967263,  0.01109679, -0.03106572,\n",
       "        -0.02609195,  0.01257866, -0.00085669, -0.00056872,  0.02302723,\n",
       "        -0.0236265 ,  0.03148888, -0.03022594,  0.00585397,  0.02023758,\n",
       "        -0.0163065 ,  0.01555173, -0.01466226, -0.00808923,  0.01112813,\n",
       "        -0.02407692, -0.01971608, -0.00048675, -0.00330058, -0.02833823,\n",
       "        -0.01155842,  0.01434927, -0.02520831,  0.00894067, -0.0069436 ,\n",
       "        -0.01314736,  0.0272847 , -0.02271018,  0.03324674,  0.00267839,\n",
       "         0.00240056, -0.00927972, -0.00588035,  0.01682413, -0.01225531,\n",
       "         0.01204581,  0.01731955,  0.02132141, -0.02995608,  0.02311245,\n",
       "        -0.02723295, -0.02389495,  0.012855  , -0.00995122, -0.02708531,\n",
       "         0.01508436, -0.00269291, -0.02306492,  0.16959026, -0.0273876 ,\n",
       "        -0.02387926, -0.02210166, -0.03033523,  0.02112698, -0.02748602,\n",
       "         0.02234981, -0.04228213, -0.02917588, -0.00955826,  0.06793904,\n",
       "        -0.01123958, -0.02350879,  0.03698009, -0.02615545, -0.01823965,\n",
       "        -0.00621579,  0.00204899, -0.0343372 ], dtype=float32),\n",
       " array([[ 1.45462036e-01],\n",
       "        [-1.67477012e-01],\n",
       "        [-5.51476121e-01],\n",
       "        [-1.89473897e-01],\n",
       "        [ 1.92313820e-01],\n",
       "        [-1.58515528e-01],\n",
       "        [ 1.49766266e-01],\n",
       "        [-4.51578647e-01],\n",
       "        [ 2.70658493e-01],\n",
       "        [-1.10645451e-01],\n",
       "        [ 1.55890658e-01],\n",
       "        [-1.97988614e-01],\n",
       "        [-6.28115758e-02],\n",
       "        [ 1.97810203e-01],\n",
       "        [-2.30853364e-01],\n",
       "        [ 8.40171054e-02],\n",
       "        [-3.20614241e-02],\n",
       "        [ 6.30301097e-03],\n",
       "        [ 1.12257816e-01],\n",
       "        [ 4.60859910e-02],\n",
       "        [ 1.02534309e-01],\n",
       "        [-1.63254738e-01],\n",
       "        [-1.01595772e-02],\n",
       "        [-1.70393795e-01],\n",
       "        [ 2.34176993e-01],\n",
       "        [ 1.06255626e-02],\n",
       "        [ 1.39637709e-01],\n",
       "        [ 1.18011698e-01],\n",
       "        [ 8.24694782e-02],\n",
       "        [-2.64055803e-02],\n",
       "        [-6.18542917e-02],\n",
       "        [ 1.45144910e-01],\n",
       "        [ 5.89112900e-02],\n",
       "        [-8.47069845e-02],\n",
       "        [-1.28675058e-01],\n",
       "        [-4.25162539e-02],\n",
       "        [ 2.06995919e-01],\n",
       "        [-6.82030395e-02],\n",
       "        [ 6.25093579e-02],\n",
       "        [-9.81629550e-01],\n",
       "        [ 8.90640076e-03],\n",
       "        [ 8.89534578e-02],\n",
       "        [-8.61770883e-02],\n",
       "        [-1.78239688e-01],\n",
       "        [ 9.62098613e-02],\n",
       "        [ 1.36556789e-01],\n",
       "        [ 2.01412901e-01],\n",
       "        [ 8.88378397e-02],\n",
       "        [-1.84983835e-01],\n",
       "        [ 4.98325191e-02],\n",
       "        [ 9.14233699e-02],\n",
       "        [ 9.78744924e-02],\n",
       "        [-2.10229959e-02],\n",
       "        [ 2.16351330e-01],\n",
       "        [-1.12999044e-01],\n",
       "        [ 1.57230288e-01],\n",
       "        [ 1.04625244e-02],\n",
       "        [ 4.11608815e-02],\n",
       "        [ 5.41459285e-02],\n",
       "        [ 1.59853891e-01],\n",
       "        [-1.22418806e-01],\n",
       "        [ 9.94675159e-02],\n",
       "        [ 2.11633846e-01],\n",
       "        [-7.45572224e-02],\n",
       "        [-2.07173526e-01],\n",
       "        [ 9.30225383e-03],\n",
       "        [-2.77238995e-01],\n",
       "        [ 1.03001632e-01],\n",
       "        [-8.04898441e-02],\n",
       "        [-1.15006052e-01],\n",
       "        [-1.07450974e+00],\n",
       "        [ 1.23885170e-01],\n",
       "        [ 1.77067310e-01],\n",
       "        [ 2.84887522e-01],\n",
       "        [ 5.43984234e-01],\n",
       "        [ 1.72361061e-01],\n",
       "        [ 1.49103373e-01],\n",
       "        [-6.63843632e-01],\n",
       "        [-1.43563867e-01],\n",
       "        [-2.09858902e-02],\n",
       "        [ 1.11965224e-01],\n",
       "        [-3.00555497e-01],\n",
       "        [ 4.62720513e-01],\n",
       "        [ 2.80904800e-01],\n",
       "        [ 7.00143054e-02],\n",
       "        [-1.93915859e-01],\n",
       "        [-1.01572983e-01],\n",
       "        [-1.64451562e-02],\n",
       "        [-4.22993414e-02],\n",
       "        [ 2.52465934e-01],\n",
       "        [-2.42846273e-02],\n",
       "        [ 2.99034297e-01],\n",
       "        [-1.11044496e-01],\n",
       "        [-9.24911872e-02],\n",
       "        [-2.11236626e-01],\n",
       "        [ 6.82189539e-02],\n",
       "        [ 1.63820654e-01],\n",
       "        [-1.59797490e-01],\n",
       "        [ 2.06230640e-01],\n",
       "        [-7.70663023e-02],\n",
       "        [ 3.04410532e-02],\n",
       "        [ 1.99660465e-01],\n",
       "        [ 1.98064178e-01],\n",
       "        [-1.13242519e+00],\n",
       "        [ 1.58849806e-01],\n",
       "        [-1.24754019e-01],\n",
       "        [-9.71787095e-01],\n",
       "        [ 3.54021642e-04],\n",
       "        [-4.67495143e-01],\n",
       "        [-6.59644961e-01],\n",
       "        [-1.83488116e-01],\n",
       "        [-1.94313496e-01],\n",
       "        [-1.21947599e-03],\n",
       "        [ 1.05915584e-01],\n",
       "        [-9.56898332e-02],\n",
       "        [-9.49735418e-02],\n",
       "        [-9.30023044e-02],\n",
       "        [ 1.36519104e-01],\n",
       "        [-2.70613302e-02],\n",
       "        [ 2.10753903e-01],\n",
       "        [ 1.04193024e-01],\n",
       "        [ 1.13774769e-01],\n",
       "        [-7.15679228e-02],\n",
       "        [ 5.05779125e-02],\n",
       "        [ 1.64306417e-01],\n",
       "        [-2.73426492e-02],\n",
       "        [ 2.03490467e-03],\n",
       "        [-8.38929296e-01]], dtype=float32),\n",
       " array([0.05701197], dtype=float32)]"
      ]
     },
     "execution_count": 4,
     "metadata": {},
     "output_type": "execute_result"
    }
   ],
   "source": [
    "model.get_weights()"
   ]
  },
  {
   "cell_type": "code",
   "execution_count": 5,
   "metadata": {},
   "outputs": [],
   "source": [
    "def decode_review(encoded_review):\n",
    "    return ' '.join([reverse_word_index.get(i - 3, '?') for i in encoded_review])\n",
    "\n",
    "def preprocess_text(text):\n",
    "    words = text.lower().split()\n",
    "    encoded_review = [word_index.get(word, 2) + 3 for word in words]\n",
    "    padded_review = sequence.pad_sequences([encoded_review], maxlen=500)\n",
    "    return padded_review"
   ]
  },
  {
   "cell_type": "code",
   "execution_count": 6,
   "metadata": {},
   "outputs": [],
   "source": [
    "\n",
    "def predict_sentiment(review):\n",
    "    preprocessed_input=preprocess_text(review)\n",
    "\n",
    "    prediction=model.predict(preprocessed_input)\n",
    "\n",
    "    sentiment = 'Positive' if prediction[0][0] > 0.5 else 'Negative'\n",
    "    \n",
    "    return sentiment, prediction[0][0]\n",
    "\n"
   ]
  },
  {
   "cell_type": "code",
   "execution_count": 7,
   "metadata": {},
   "outputs": [
    {
     "name": "stdout",
     "output_type": "stream",
     "text": [
      "\u001b[1m1/1\u001b[0m \u001b[32m━━━━━━━━━━━━━━━━━━━━\u001b[0m\u001b[37m\u001b[0m \u001b[1m0s\u001b[0m 189ms/step\n",
      "Review: This movie was fantastic! The acting was great and the plot was thrilling.\n",
      "Sentiment: Positive\n",
      "Prediction Score: 0.8352081179618835\n"
     ]
    }
   ],
   "source": [
    "\n",
    "example_review = \"This movie was fantastic! The acting was great and the plot was thrilling.\"\n",
    "\n",
    "sentiment,score=predict_sentiment(example_review)\n",
    "\n",
    "print(f'Review: {example_review}')\n",
    "print(f'Sentiment: {sentiment}')\n",
    "print(f'Prediction Score: {score}')"
   ]
  },
  {
   "cell_type": "code",
   "execution_count": null,
   "metadata": {},
   "outputs": [],
   "source": []
  },
  {
   "cell_type": "code",
   "execution_count": null,
   "metadata": {},
   "outputs": [],
   "source": []
  },
  {
   "cell_type": "code",
   "execution_count": null,
   "metadata": {},
   "outputs": [],
   "source": []
  },
  {
   "cell_type": "code",
   "execution_count": null,
   "metadata": {},
   "outputs": [],
   "source": []
  }
 ],
 "metadata": {
  "kernelspec": {
   "display_name": "venv",
   "language": "python",
   "name": "python3"
  },
  "language_info": {
   "codemirror_mode": {
    "name": "ipython",
    "version": 3
   },
   "file_extension": ".py",
   "mimetype": "text/x-python",
   "name": "python",
   "nbconvert_exporter": "python",
   "pygments_lexer": "ipython3",
   "version": "3.12.3"
  }
 },
 "nbformat": 4,
 "nbformat_minor": 2
}
